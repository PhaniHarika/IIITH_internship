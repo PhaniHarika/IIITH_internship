{
  "nbformat": 4,
  "nbformat_minor": 0,
  "metadata": {
    "colab": {
      "provenance": [],
      "authorship_tag": "ABX9TyPHVjK7SwQPB6UohoEDktDe",
      "include_colab_link": true
    },
    "kernelspec": {
      "name": "python3",
      "display_name": "Python 3"
    },
    "language_info": {
      "name": "python"
    }
  },
  "cells": [
    {
      "cell_type": "markdown",
      "metadata": {
        "id": "view-in-github",
        "colab_type": "text"
      },
      "source": [
        "<a href=\"https://colab.research.google.com/github/PhaniHarika/IIITH_internship/blob/main/TASK_5_pipeline.ipynb\" target=\"_parent\"><img src=\"https://colab.research.google.com/assets/colab-badge.svg\" alt=\"Open In Colab\"/></a>"
      ]
    },
    {
      "cell_type": "code",
      "execution_count": null,
      "metadata": {
        "id": "k5CW-c7gUgLu"
      },
      "outputs": [],
      "source": []
    },
    {
      "cell_type": "markdown",
      "source": [
        "# **TASK-5:Surgical Instrument Detection Using YOLOv8n**"
      ],
      "metadata": {
        "id": "Vr_JlNHuVgsK"
      }
    },
    {
      "cell_type": "markdown",
      "source": [
        "# **🎯 OBJECTIVE**\n",
        "\n",
        "To train a custom object detection model using YOLOv8n for identifying surgical instruments in live or recorded surgery videos. This task includes:\n",
        "\n",
        "1.Annotating and preparing a dataset.\n",
        "\n",
        "2.Training the YOLOv8n model for object detection.\n",
        "\n",
        "3.Validating the model.\n",
        "\n",
        "4.Running inference on videos.\n",
        "\n",
        "5.Evaluating performance and packaging results.\n",
        "\n",
        "\n"
      ],
      "metadata": {
        "id": "sgujIZmSV4bW"
      }
    },
    {
      "cell_type": "markdown",
      "source": [
        "# **PHASE 1: Environment Setup**\n",
        "\n",
        "**1.1 Python & Virtual Environment**\n",
        "\n",
        "Ensure Python is installed (3.10+ recommended)\n",
        "\n",
        "Create and activate a virtual environment:\n",
        "\n"
      ],
      "metadata": {
        "id": "8h26pJ5JWNj8"
      }
    },
    {
      "cell_type": "code",
      "source": [
        "python -m venv yolov8-env\n",
        "cd yolov8-env/Scripts\n",
        "activate"
      ],
      "metadata": {
        "id": "X8MirYM-Wf-E"
      },
      "execution_count": null,
      "outputs": []
    },
    {
      "cell_type": "markdown",
      "source": [
        "**1.2 Install Dependencies**"
      ],
      "metadata": {
        "id": "BlrPWNugWhcr"
      }
    },
    {
      "cell_type": "code",
      "source": [
        "pip install ultralytics opencv-python"
      ],
      "metadata": {
        "id": "HX1R85YGWnbd"
      },
      "execution_count": null,
      "outputs": []
    },
    {
      "cell_type": "markdown",
      "source": [
        "# **PHASE 2: Dataset Setup**\n",
        "\n",
        "**2.1 Prepare Dataset**\n",
        "\n",
        "Downloaded from Kaggle (Surgical Instruments YOLOv5-v1i YOLOv8 format)\n",
        "\n",
        "Folder structure:"
      ],
      "metadata": {
        "id": "oONS3NKOWq9q"
      }
    },
    {
      "cell_type": "markdown",
      "source": [
        "Surgical Instruments Yolov5.v1i.yolov8/\n",
        "\n",
        "├── train/\n",
        "\n",
        "│   ├── images/\n",
        "\n",
        "│   └── labels/\n",
        "\n",
        "PHASE 2: Dataset Setup\n",
        "\n",
        "2.1 Prepare Dataset\n",
        "\n",
        "Downloaded from Kaggle (Surgical Instruments YOLOv5-v1i YOLOv8 format)\n",
        "\n",
        "Folder structure:\n",
        "\n",
        "├── valid/\n",
        "\n",
        "│   ├── images/\n",
        "\n",
        "│   └── labels/\n",
        "\n",
        "├── test/\n",
        "\n",
        "│   ├── images/\n",
        "\n",
        "│   └── labels/\n",
        "\n",
        "├── data.yaml"
      ],
      "metadata": {
        "id": "0fPkvQhNWy9Z"
      }
    },
    {
      "cell_type": "markdown",
      "source": [
        "# **2.2 data.yaml File (already provided)**"
      ],
      "metadata": {
        "id": "sPz3NLWqXNyA"
      }
    },
    {
      "cell_type": "markdown",
      "source": [
        "# **PHASE 3: Model Training**\n",
        "\n",
        "**3.1 Initial Training Command**\n",
        "\n",
        "yolo task=detect mode=train model=yolov8n.pt data=\"path/to/data.yaml\"\n",
        "\n",
        "epochs=30 imgsz=640 device=cpu\n",
        "\n",
        "Trains for 30 epochs\n",
        "\n",
        "Uses CPU (you can switch to GPU if available)\n",
        "\n",
        "**3.2 Resuming Interrupted Training (Optional)**\n",
        "\n",
        "yolo task=detect mode=train resume=True\n",
        "\n",
        "\n",
        "# **📊 PHASE 4: Evaluation**\n",
        "\n",
        "**4.1 Validation**\n",
        "\n",
        "yolo task=detect mode=val model=\"path/to/best.pt\" data=\"path/to/data.yaml\"\n",
        "\n",
        "**4.2 Output Folder**\n",
        "\n",
        "runs/detect/val/\n",
        "\n",
        "├── results.png\n",
        "\n",
        "├── confusion_matrix.png\n",
        "\n",
        "├── PR_curve.png\n",
        "\n",
        "├── F1_curve.png\n",
        "\n",
        "├── predictions.jpg\n",
        "\n",
        "Use these for final analysis and reporting.\n",
        "\n",
        "# **🧪 PHASE 5: Inference**\n",
        "\n",
        "**5.1 Run Inference on a Folder of Images**\n",
        "\n",
        "yolo task=detect mode=predict model=\"path/to/best.pt\" source=\"path/to/frames\" conf=0.25\n",
        "\n",
        "**5.2 Run Inference on a Video**\n",
        "\n",
        "yolo task=detect mode=predict model=\"path/to/best.pt\" source=\"path/to/video.mp4\" conf=0.25 save=True\n",
        "\n",
        "**5.3 Output Directory**\n",
        "\n",
        "runs/detect/predict/\n",
        "\n",
        "Contains annotated images or videos.\n",
        "\n",
        "# **📂 Final Output Folder Structure**\n",
        "\n",
        "SurgicalDetectionProject/\n",
        "\n",
        "├── data.yaml\n",
        "\n",
        "├── train/, valid/, test/ (with images and labels)\n",
        "\n",
        "├── runs/\n",
        "\n",
        "│   ├── detect/\n",
        "\n",
        "│   │   ├── train3/\n",
        "\n",
        "│   │   │   └── weights/best.pt, last.pt\n",
        "\n",
        "│   │   └── val/\n",
        "\n",
        "│   │       └── [evaluation graphs]\n",
        "\n",
        "│   └── predict/\n",
        "\n",
        "│       └── [inference results]\n",
        "\n",
        "├── best.pt (backup)\n",
        "\n",
        "├── results.png\n",
        "\n",
        "├── confusion_matrix.png\n",
        "\n",
        "├── predictions.jpg\n",
        "\n",
        "# **📌 Notes**\n",
        "\n",
        "Use conf=0.25 to get more detections if some are missing.\n",
        "\n",
        "You can convert inference output into a video using FFmpeg.\n",
        "\n",
        "Final results can be pushed to GitHub for your internship documentation.\n",
        "\n",
        "# **✅ Summary**\n",
        "\n",
        "This task successfully covered the complete pipeline:\n",
        "\n",
        "Dataset setup ✅\n",
        "\n",
        "Training on surgical instruments ✅\n",
        "\n",
        "Evaluation and visualization ✅\n",
        "\n",
        "Inference on unseen frames and video ✅"
      ],
      "metadata": {
        "id": "gmH0gJXJXP3-"
      }
    }
  ]
}